{
 "cells": [
  {
   "cell_type": "code",
   "execution_count": 6,
   "id": "dd8ad7f7-addf-410f-8969-9a372b7d1e83",
   "metadata": {},
   "outputs": [],
   "source": [
    "import os\n",
    "import joblib \n",
    "import pandas as pd\n",
    "import numpy as np\n",
    "from sklearn.model_selection import  StratifiedShuffleSplit\n",
    "from sklearn.pipeline import Pipeline\n",
    "from sklearn.compose import ColumnTransformer\n",
    "from sklearn.impute import SimpleImputer\n",
    "from sklearn.preprocessing import SplineTransformer,OneHotEncoder\n",
    "from sklearn.preprocessing import StandardScaler\n",
    "from sklearn.linear_model import LinearRegression\n",
    "from sklearn.tree import DecisionTreeRegressor\n",
    "from sklearn.ensemble import RandomForestRegressor\n",
    "from sklearn.metrics import root_mean_squared_error\n",
    "from sklearn.model_selection import cross_val_score"
   ]
  },
  {
   "cell_type": "code",
   "execution_count": 7,
   "id": "8f3c5c71-c952-495b-bbc5-677abc2e8324",
   "metadata": {},
   "outputs": [],
   "source": [
    "MODEL_FILE = \"model.pkl\"\n",
    "PIPELINE_FILE = \"pipeline.pkl\""
   ]
  },
  {
   "cell_type": "code",
   "execution_count": 10,
   "id": "15f788ea-f0ff-46a8-bc76-2082bcf7b9e7",
   "metadata": {},
   "outputs": [],
   "source": [
    "def build_pipeline(num_attribs,cat_attribs):\n",
    "#For numerical columns\n",
    "    num_pipeline = Pipeline([\n",
    "    (\"impute\",SimpleImputer(strategy=\"median\")),\n",
    "    (\"Standardize\",StandardScaler())\n",
    "    ])\n",
    "\n",
    "\n",
    "# For Categoriacl columns\n",
    "    cat_pipeline = Pipeline([\n",
    "    (\"onehot\",OneHotEncoder(handle_unknown=\"ignore\"))\n",
    "    ])\n",
    "\n",
    "# Construct the full pipeline\n",
    "    full_pipeline = ColumnTransformer([\n",
    "    (\"num\",num_pipeline,num_attribs),\n",
    "    (\"cat\",cat_pipeline,cat_attribs)\n",
    "    ])\n",
    "\n",
    "    return full_pipeline\n"
   ]
  },
  {
   "cell_type": "code",
   "execution_count": 11,
   "id": "7cce3773-454b-4604-bff3-a57e969958e9",
   "metadata": {},
   "outputs": [
    {
     "name": "stdout",
     "output_type": "stream",
     "text": [
      "Inference is complete,resltes saved to output.csv\n"
     ]
    }
   ],
   "source": [
    "if not os.path.exists(MODEL_FILE):\n",
    "\n",
    "     #Lets train the model\n",
    "    housing = pd.read_csv(\"housing.csv\")\n",
    "    #Create a stratified test set \n",
    "    housing[\"income_cat\"] = pd.cut(housing['median_income'],\n",
    "                               bins=[0, 1.5 ,3.0 ,4.5 ,6.0, np.inf],\n",
    "                               labels=[1,2,3,4,5])\n",
    "\n",
    "\n",
    "    split = StratifiedShuffleSplit(n_splits=1,test_size=0.2,random_state=42)\n",
    "\n",
    "    for train_index, test_index in split.split(housing,housing[\"income_cat\"]):\n",
    "        housing.loc[test_index].drop(\"income_cat\",axis=1).to_csv(\"input.csv\",index=False)\n",
    "        housing = housing.loc[train_index].drop(\"income_cat\",axis=1)\n",
    "        print(housing)\n",
    "        \n",
    "    for train_index, test_index in split.split(housing,housing[\"income_cat\"]):\n",
    "        strat_train_set = housing.loc[train_index].drop(\"income_cat\",axis=1)\n",
    "        strat_test_set = housing.loc[test_index].drop(\"income_cat\",axis=1)\n",
    "    \n",
    "    #Seprate fetures and labels\n",
    "    housing_labels = housing[\"median_house_value\"].copy()\n",
    "    housing_features =housing.drop(\"median_house_value\",axis=1)\n",
    "\n",
    "\n",
    "    # List and Seprate numerical and categorical columns\n",
    "    num_attribs = housing_features.drop(\"ocean_proximity\",axis=1).columns.tolist()\n",
    "    cat_attribs = [\"ocean_proximity\"]\n",
    "\n",
    "    # Construct the full pipeline\n",
    "    pipeline = build_pipeline(num_attribs,cat_attribs)\n",
    "    housing_prepared = pipeline.fit_transform(housing_features)\n",
    "    print(housing_prepared)\n",
    "\n",
    "\n",
    "    # Train model\n",
    "    model = RandomForestRegressor(random_state=42)\n",
    "    model.fit(housing_prepared,housing_labels)\n",
    "\n",
    "    #Joblib\n",
    "    joblib.dump(model, MODEL_FILE)\n",
    "    joblib.dump(pipeline, PIPELINE_FILE)\n",
    "    print(\"Model is trained. Congrats!\")\n",
    "\n",
    "\n",
    "    #Interference (IN comming data)\n",
    "else:\n",
    "     model = joblib.load(MODEL_FILE)\n",
    "     pipeline = joblib.load(PIPELINE_FILE)\n",
    "\n",
    "     input_data = pd.read_csv(\"input.csv\")\n",
    "     transformed_input = pipeline.transform(input_data)\n",
    "     predictions = model.predict(transformed_input)\n",
    "     input_data['median_house_value']=predictions\n",
    "\n",
    "     input_data.to_csv(\"output.csv\",index=False)\n",
    "     print(\"Inference is complete,resltes saved to output.csv\")    \n"
   ]
  },
  {
   "cell_type": "code",
   "execution_count": null,
   "id": "8e3ffe20-9605-4465-af16-46068a09e4ce",
   "metadata": {},
   "outputs": [],
   "source": []
  },
  {
   "cell_type": "code",
   "execution_count": null,
   "id": "184e3de2-e95e-4bae-a276-0120513af5fe",
   "metadata": {},
   "outputs": [],
   "source": []
  },
  {
   "cell_type": "code",
   "execution_count": null,
   "id": "13582c5f-15dc-40b4-97ce-d7154f28bad9",
   "metadata": {},
   "outputs": [],
   "source": []
  }
 ],
 "metadata": {
  "kernelspec": {
   "display_name": "Python [conda env:base] *",
   "language": "python",
   "name": "conda-base-py"
  },
  "language_info": {
   "codemirror_mode": {
    "name": "ipython",
    "version": 3
   },
   "file_extension": ".py",
   "mimetype": "text/x-python",
   "name": "python",
   "nbconvert_exporter": "python",
   "pygments_lexer": "ipython3",
   "version": "3.13.5"
  }
 },
 "nbformat": 4,
 "nbformat_minor": 5
}
