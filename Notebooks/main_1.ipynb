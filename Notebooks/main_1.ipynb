{
 "cells": [
  {
   "cell_type": "code",
   "execution_count": 1,
   "id": "326af3c9-868a-40d7-9134-3f2b01e40a84",
   "metadata": {},
   "outputs": [
    {
     "name": "stdout",
     "output_type": "stream",
     "text": [
      "       longitude  latitude  housing_median_age  total_rooms  total_bedrooms  \\\n",
      "12655    -121.46     38.52                  29         3873           797.0   \n",
      "15502    -117.23     33.09                   7         5320           855.0   \n",
      "2908     -119.04     35.37                  44         1618           310.0   \n",
      "14053    -117.13     32.75                  24         1877           519.0   \n",
      "20496    -118.70     34.28                  27         3536           646.0   \n",
      "...          ...       ...                 ...          ...             ...   \n",
      "15174    -117.07     33.03                  14         6665          1231.0   \n",
      "12661    -121.42     38.51                  15         7901          1422.0   \n",
      "19263    -122.72     38.44                  48          707           166.0   \n",
      "19140    -122.70     38.31                  14         3155           580.0   \n",
      "19773    -122.14     39.97                  27         1079           222.0   \n",
      "\n",
      "       population  households  median_income ocean_proximity  \n",
      "12655        2237         706         2.1736          INLAND  \n",
      "15502        2015         768         6.3373      NEAR OCEAN  \n",
      "2908          667         300         2.8750          INLAND  \n",
      "14053         898         483         2.2264      NEAR OCEAN  \n",
      "20496        1837         580         4.4964       <1H OCEAN  \n",
      "...           ...         ...            ...             ...  \n",
      "15174        2026        1001         5.0900       <1H OCEAN  \n",
      "12661        4769        1418         2.8139          INLAND  \n",
      "19263         458         172         3.1797       <1H OCEAN  \n",
      "19140        1208         501         4.1964       <1H OCEAN  \n",
      "19773         625         197         3.1319          INLAND  \n",
      "\n",
      "[16512 rows x 9 columns] 12655     72100\n",
      "15502    279600\n",
      "2908      82700\n",
      "14053    112500\n",
      "20496    238300\n",
      "          ...  \n",
      "15174    268500\n",
      "12661     90400\n",
      "19263    140400\n",
      "19140    258100\n",
      "19773     62700\n",
      "Name: median_house_value, Length: 16512, dtype: int64\n",
      "[[-0.94135046  1.34743822  0.02756357 ...  0.          0.\n",
      "   0.        ]\n",
      " [ 1.17178212 -1.19243966 -1.72201763 ...  0.          0.\n",
      "   1.        ]\n",
      " [ 0.26758118 -0.1259716   1.22045984 ...  0.          0.\n",
      "   0.        ]\n",
      " ...\n",
      " [-1.5707942   1.31001828  1.53856552 ...  0.          0.\n",
      "   0.        ]\n",
      " [-1.56080303  1.2492109  -1.1653327  ...  0.          0.\n",
      "   0.        ]\n",
      " [-1.28105026  2.02567448 -0.13148926 ...  0.          0.\n",
      "   0.        ]]\n"
     ]
    }
   ],
   "source": [
    "import pandas as pd\n",
    "import numpy as np\n",
    "from sklearn.model_selection import  StratifiedShuffleSplit\n",
    "from sklearn.pipeline import Pipeline\n",
    "from sklearn.compose import ColumnTransformer\n",
    "from sklearn.impute import SimpleImputer\n",
    "from sklearn.preprocessing import SplineTransformer,OneHotEncoder\n",
    "from sklearn.preprocessing import StandardScaler\n",
    "\n",
    "\n",
    "#1. Load the dataset\n",
    "housing = pd.read_csv(\"housing.csv\")\n",
    "\n",
    "#2. Create a stratified test set \n",
    "housing[\"income_cat\"] = pd.cut(housing['median_income'],\n",
    "                               bins=[0, 1.5 ,3.0 ,4.5 ,6.0, np.inf],\n",
    "                               labels=[1,2,3,4,5])\n",
    "\n",
    "\n",
    "split = StratifiedShuffleSplit(n_splits=1,test_size=0.2,random_state=42)\n",
    "\n",
    "for train_index, test_index in split.split(housing,housing[\"income_cat\"]):\n",
    "    strat_train_set = housing.loc[train_index].drop(\"income_cat\",axis=1)\n",
    "    strat_test_set = housing.loc[test_index].drop(\"income_cat\",axis=1)\n",
    "    \n",
    "# We  will work on the copy of training data\n",
    "housing = strat_train_set.copy()\n",
    "\n",
    "#3. Seprate fetures and labels\n",
    "housing_labels = housing[\"median_house_value\"].copy()\n",
    "housing =housing.drop(\"median_house_value\",axis=1)\n",
    "\n",
    "print(housing,housing_labels)\n",
    "\n",
    "\n",
    "#4. List and Seprate numerical and categorical columns\n",
    "num_attribs = housing.drop(\"ocean_proximity\",axis=1).columns.tolist()\n",
    "cat_attribs = [\"ocean_proximity\"]\n",
    "\n",
    "#5. Lets make the pipeline \n",
    " \n",
    "# For numerical columns\n",
    "num_pipeline = Pipeline([\n",
    "    (\"impute\",SimpleImputer(strategy=\"median\")),\n",
    "    (\"Standardize\",StandardScaler())\n",
    "    ])\n",
    "\n",
    "\n",
    "# For Categoriacl columns\n",
    "cat_pipeline = Pipeline([\n",
    "    (\"onehot\",OneHotEncoder(handle_unknown=\"ignore\"))\n",
    "    ])\n",
    "\n",
    "# Construct the full pipeline\n",
    "full_pipeline = ColumnTransformer([\n",
    "    (\"num\",num_pipeline,num_attribs),\n",
    "    (\"cat\",cat_pipeline,cat_attribs)\n",
    "])\n",
    "\n",
    "#6. Transform the data\n",
    "housing_prepared = full_pipeline.fit_transform(housing)\n",
    "print(housing_prepared)"
   ]
  },
  {
   "cell_type": "code",
   "execution_count": 2,
   "id": "c5089950-f4f6-4839-9acb-eef22342be07",
   "metadata": {},
   "outputs": [],
   "source": [
    "from sklearn.linear_model import LinearRegression\n",
    "from sklearn.tree import DecisionTreeRegressor\n",
    "from sklearn.ensemble import RandomForestRegressor\n",
    "from sklearn.metrics import root_mean_squared_error"
   ]
  },
  {
   "cell_type": "markdown",
   "id": "947524d3-7523-42f6-ab86-bb6488c4c91d",
   "metadata": {},
   "source": [
    "## 7. Train the model"
   ]
  },
  {
   "cell_type": "markdown",
   "id": "c7773fb0-c9b3-4768-881b-23f2853f4329",
   "metadata": {},
   "source": [
    "### Linear Regression"
   ]
  },
  {
   "cell_type": "code",
   "execution_count": 3,
   "id": "fb2cbab6-2bc2-46d3-8cb3-691335d0dbed",
   "metadata": {},
   "outputs": [],
   "source": [
    "# lin_reg = LinearRegression()\n",
    "# lin_reg.fit(housing_prepared,housing_labels)\n",
    "# lin_preds = lin_reg.predict(housing_prepared)\n",
    "# # lin_rmse = root_mean_squared_error(housing_labels,lin_preds)"
   ]
  },
  {
   "cell_type": "code",
   "execution_count": 4,
   "id": "4ccdf95b-e9a1-493f-9d51-2db0095a0c3c",
   "metadata": {},
   "outputs": [],
   "source": [
    "# print(f\"The root mean squared error for Linear Regression is {lin_rmse}\")"
   ]
  },
  {
   "cell_type": "markdown",
   "id": "bd7a1f81-62f9-44fd-b28c-e5add467770d",
   "metadata": {},
   "source": [
    "### Decision Tree"
   ]
  },
  {
   "cell_type": "code",
   "execution_count": 5,
   "id": "54bb9c44-e1c1-4f6b-9fcc-50884346217f",
   "metadata": {},
   "outputs": [],
   "source": [
    "#dec_reg = DecisionTreeRegressor()\n",
    "#dec_reg.fit(housing_prepared,housing_labels)\n",
    "#dec_preds = dec_reg.predict(housing_prepared)\n",
    "#dec_rmse = root_mean_squared_error(housing_labels,dec_preds)"
   ]
  },
  {
   "cell_type": "code",
   "execution_count": 6,
   "id": "f392f123-a35b-4a1b-b4dc-c368239a0a96",
   "metadata": {},
   "outputs": [],
   "source": [
    "# print(f\"The root mean squared error for Desision tree is {dec_rmse}\")"
   ]
  },
  {
   "cell_type": "markdown",
   "id": "7ba61e64-7f72-4eec-ad0e-5adf3b2a7dfd",
   "metadata": {},
   "source": [
    "### Random Forest Model"
   ]
  },
  {
   "cell_type": "code",
   "execution_count": 7,
   "id": "b6277362-4f34-4487-b3a3-095c4623ef51",
   "metadata": {},
   "outputs": [],
   "source": [
    "# random_forest_reg = RandomForestRegressor()\n",
    "# random_forest_reg.fit(housing_prepared,housing_labels)\n",
    "# random_forest_preds = random_forest_reg.predict(housing_prepared)\n",
    "# random_forest_rmse = root_mean_squared_error(housing_labels,random_forest_preds)"
   ]
  },
  {
   "cell_type": "code",
   "execution_count": 8,
   "id": "5971e8ec-6e8a-4b34-82ee-49ce395fcb37",
   "metadata": {},
   "outputs": [],
   "source": [
    "# print(f\"The root mean squared error for Random Forest is {random_forest_rmse}\")"
   ]
  },
  {
   "cell_type": "markdown",
   "id": "96c6c9ea-6d5e-4621-9b1b-33826b222f99",
   "metadata": {},
   "source": [
    "## 8. Cross Validattion"
   ]
  },
  {
   "cell_type": "code",
   "execution_count": 9,
   "id": "f041786f-aec7-4300-8141-9d6cb6ae3aa1",
   "metadata": {},
   "outputs": [],
   "source": [
    "from sklearn.model_selection import cross_val_score"
   ]
  },
  {
   "cell_type": "code",
   "execution_count": 10,
   "id": "5cb3ebb4-e0ae-4949-b709-b04f355e4283",
   "metadata": {},
   "outputs": [
    {
     "name": "stdout",
     "output_type": "stream",
     "text": [
      "count       10.000000\n",
      "mean     69329.806956\n",
      "std       2717.228989\n",
      "min      63732.461319\n",
      "25%      68030.605234\n",
      "50%      69593.605180\n",
      "75%      71136.802180\n",
      "max      73163.033739\n",
      "dtype: float64\n",
      "count       10.000000\n",
      "mean     49370.008603\n",
      "std       2089.715241\n",
      "min      46048.804428\n",
      "25%      47851.130605\n",
      "50%      49023.234196\n",
      "75%      50631.029659\n",
      "max      52990.201716\n",
      "dtype: float64\n",
      "count       10.000000\n",
      "mean     69204.322755\n",
      "std       2500.382157\n",
      "min      65318.224029\n",
      "25%      67124.346106\n",
      "50%      69404.658178\n",
      "75%      70697.800632\n",
      "max      73003.752739\n",
      "dtype: float64\n"
     ]
    }
   ],
   "source": [
    "dec_reg = DecisionTreeRegressor()\n",
    "dec_reg.fit(housing_prepared,housing_labels)\n",
    "dec_preds = dec_reg.predict(housing_prepared)\n",
    "#dec_rmse = root_mean_squared_error(housing_labels,dec_preds)\n",
    "dec_rmses = -cross_val_score(dec_reg,housing_prepared,housing_labels,scoring=\"neg_root_mean_squared_error\",cv=10)\n",
    "\n",
    "print(pd.Series(dec_rmses).describe())\n",
    "\n",
    "random_forest_reg = RandomForestRegressor()\n",
    "random_forest_reg.fit(housing_prepared,housing_labels)\n",
    "random_forest_preds = random_forest_reg.predict(housing_prepared)\n",
    "# random_forest_rmse = root_mean_squared_error(housing_labels,random_forest_preds)\n",
    "random_forest_rmses = -cross_val_score(random_forest_reg,housing_prepared,housing_labels,scoring=\"neg_root_mean_squared_error\",cv=10)\n",
    "\n",
    "print(pd.Series(random_forest_rmses).describe())\n",
    "\n",
    "lin_reg = LinearRegression()\n",
    "lin_reg.fit(housing_prepared,housing_labels)\n",
    "lin_preds = lin_reg.predict(housing_prepared)\n",
    "#lin_rmse = root_mean_squared_error(housing_labels,lin_preds)\n",
    "lin_rmses = -cross_val_score(lin_reg,housing_prepared,housing_labels,scoring=\"neg_root_mean_squared_error\",cv=10)\n",
    "\n",
    "print(pd.Series(lin_rmses).describe())"
   ]
  },
  {
   "cell_type": "code",
   "execution_count": null,
   "id": "5f657123-dffb-40fd-9a70-137e4349779a",
   "metadata": {},
   "outputs": [],
   "source": []
  },
  {
   "cell_type": "code",
   "execution_count": null,
   "id": "0f6e379c-d631-4866-b66d-6a144cb30724",
   "metadata": {},
   "outputs": [],
   "source": []
  },
  {
   "cell_type": "code",
   "execution_count": null,
   "id": "4d05ed5d-24f0-4f77-bc56-b5de7556e53f",
   "metadata": {},
   "outputs": [],
   "source": []
  },
  {
   "cell_type": "code",
   "execution_count": null,
   "id": "99219d51-28ba-4d95-b8f5-c236bbf298b1",
   "metadata": {},
   "outputs": [],
   "source": []
  }
 ],
 "metadata": {
  "kernelspec": {
   "display_name": "Python [conda env:base] *",
   "language": "python",
   "name": "conda-base-py"
  },
  "language_info": {
   "codemirror_mode": {
    "name": "ipython",
    "version": 3
   },
   "file_extension": ".py",
   "mimetype": "text/x-python",
   "name": "python",
   "nbconvert_exporter": "python",
   "pygments_lexer": "ipython3",
   "version": "3.13.5"
  }
 },
 "nbformat": 4,
 "nbformat_minor": 5
}
